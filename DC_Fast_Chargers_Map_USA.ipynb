{
 "cells": [
  {
   "cell_type": "markdown",
   "id": "42ec1ef4-283b-4cd3-8a74-7f1d2bad6175",
   "metadata": {},
   "source": [
    "# What is this?\n",
    "A simple visualization of DC Fast Chargers that have 4 or more dispensers. \n",
    "\n",
    "# How to use\n",
    "* Run the Download_Latest_Data notebook first.\n",
    "* Read the How to use in that notebook.\n",
    "* Profit!\n"
   ]
  },
  {
   "cell_type": "code",
   "execution_count": null,
   "id": "80f798b6-0fc4-4491-a9b6-0071264fe517",
   "metadata": {
    "tags": []
   },
   "outputs": [],
   "source": [
    "import pandas as pd\n",
    "import plotly.express as px\n",
    "import geopandas as gpd"
   ]
  },
  {
   "cell_type": "code",
   "execution_count": null,
   "id": "56260e1f-6525-4d82-8391-911c5d7b7310",
   "metadata": {
    "scrolled": true,
    "tags": []
   },
   "outputs": [],
   "source": [
    "df = pd.read_csv ('latest.csv', low_memory=False)"
   ]
  },
  {
   "cell_type": "code",
   "execution_count": null,
   "id": "8a7b7c19-a946-4da1-9d6e-52799b9f5fac",
   "metadata": {
    "tags": []
   },
   "outputs": [],
   "source": [
    "# Fill empty data with zeros to eliminate errors in ploting.\n",
    "df.fillna(0, inplace=True)\n",
    "\n",
    "# Only show locations with 4 or more dispensers.\n",
    "df = df[df['EV DC Fast Count'] > 3]"
   ]
  },
  {
   "cell_type": "code",
   "execution_count": null,
   "id": "46bb5c85-f2f4-44e3-8768-8ff4acd484a4",
   "metadata": {
    "tags": []
   },
   "outputs": [],
   "source": [
    "fig = px.scatter_geo(df,\n",
    "                     height=1000,\n",
    "                     width=1800,\n",
    "                     lat=df.Latitude,\n",
    "                     lon=df.Longitude,\n",
    "                     hover_name=df[\"Station Name\"],\n",
    "                     hover_data=[df['EV Network'], df.City, df.State],\n",
    "                     size=df['EV DC Fast Count'],\n",
    "                     color=df['EV DC Fast Count'],\n",
    "                     scope = \"usa\"\n",
    "                    )\n",
    "fig.show()"
   ]
  },
  {
   "cell_type": "code",
   "execution_count": null,
   "id": "1a451d33-c6ba-4c6a-9501-6acc8090973e",
   "metadata": {},
   "outputs": [],
   "source": []
  }
 ],
 "metadata": {
  "kernelspec": {
   "display_name": "Python 3 (ipykernel)",
   "language": "python",
   "name": "python3"
  },
  "language_info": {
   "codemirror_mode": {
    "name": "ipython",
    "version": 3
   },
   "file_extension": ".py",
   "mimetype": "text/x-python",
   "name": "python",
   "nbconvert_exporter": "python",
   "pygments_lexer": "ipython3",
   "version": "3.11.9"
  }
 },
 "nbformat": 4,
 "nbformat_minor": 5
}
