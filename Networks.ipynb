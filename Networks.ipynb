{
 "cells": [
  {
   "cell_type": "markdown",
   "id": "4005b659-e229-48ee-a812-619f0d7128e6",
   "metadata": {},
   "source": [
    "# Networks\n",
    "\n",
    "# How to use\n",
    "* Run the Download_Latest_Data notebook first.\n",
    "* Read the How to use in that notebook.\n",
    "* Profit!"
   ]
  },
  {
   "cell_type": "code",
   "execution_count": null,
   "id": "4eb08a44-7797-4efb-b7ac-311a121410f2",
   "metadata": {
    "tags": []
   },
   "outputs": [],
   "source": [
    "import pandas as pd\n",
    "import plotly.express as px\n",
    "import geopandas as gpd"
   ]
  },
  {
   "cell_type": "code",
   "execution_count": null,
   "id": "391b0837-be86-412b-836a-02ac7fcf5005",
   "metadata": {
    "tags": []
   },
   "outputs": [],
   "source": [
    "df = pd.read_csv ('latest.csv', low_memory=False)"
   ]
  },
  {
   "cell_type": "code",
   "execution_count": null,
   "id": "a0b2ebb1-0701-43f6-8108-00794c9470f7",
   "metadata": {},
   "outputs": [],
   "source": [
    "# Fill empty data with zeros to eliminate errors in ploting.\n",
    "data.fillna(0, inplace=True)"
   ]
  },
  {
   "cell_type": "code",
   "execution_count": null,
   "id": "95049b84-7142-45a5-865e-e8a4f41a81e8",
   "metadata": {
    "tags": []
   },
   "outputs": [],
   "source": [
    "fig = px.density_heatmap(df, x=\"State\", y=\"EV Network\", \n",
    "                         nbinsx=20, \n",
    "                         nbinsy=20, \n",
    "                         #z=\"EV DC Fast Count\",\n",
    "                         #facet_col=\"smoker\",\n",
    "                         #marginal_x=\"histogram\", \n",
    "                         #marginal_y=\"histogram\",\n",
    "                         text_auto=True,\n",
    "                         height=1200,\n",
    "                         width=1800,\n",
    "                         color_continuous_scale=\"Viridis\"\n",
    "                        )\n",
    "fig.show()"
   ]
  },
  {
   "cell_type": "code",
   "execution_count": null,
   "id": "3a242f2c-4b0f-4410-a1f4-041c1b16406c",
   "metadata": {},
   "outputs": [],
   "source": []
  }
 ],
 "metadata": {
  "kernelspec": {
   "display_name": "Python 3 (ipykernel)",
   "language": "python",
   "name": "python3"
  },
  "language_info": {
   "codemirror_mode": {
    "name": "ipython",
    "version": 3
   },
   "file_extension": ".py",
   "mimetype": "text/x-python",
   "name": "python",
   "nbconvert_exporter": "python",
   "pygments_lexer": "ipython3",
   "version": "3.11.9"
  }
 },
 "nbformat": 4,
 "nbformat_minor": 5
}
