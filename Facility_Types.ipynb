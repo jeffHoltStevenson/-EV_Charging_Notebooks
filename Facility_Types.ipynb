{
 "cells": [
  {
   "cell_type": "markdown",
   "id": "1e323590-2ee7-4923-9f40-84b96341b23f",
   "metadata": {},
   "source": [
    "# Facility Types\n",
    "* There is a Facility Type assocaited with each deployment. \n",
    "* This stacked bar chart will provide a visual overview of the deployments to these facility types.\n",
    "* Hover over segments of the bar chart to see location details.\n",
    "\n",
    "# How to use\n",
    "* Run the Download_Latest_Data notebook first.\n",
    "* Read the How to use in that notebook.\n",
    "* Profit!"
   ]
  },
  {
   "cell_type": "code",
   "execution_count": null,
   "id": "11ef6d4a-fbf0-4f26-8be0-8b7b4ac6f3db",
   "metadata": {},
   "outputs": [],
   "source": [
    "import pandas as pd\n",
    "import plotly.express as px\n",
    "import geopandas as gpd\n",
    "from plotly import graph_objects as go"
   ]
  },
  {
   "cell_type": "code",
   "execution_count": null,
   "id": "407b0f46-fef5-44eb-bab0-6068f7d87f92",
   "metadata": {
    "tags": []
   },
   "outputs": [],
   "source": [
    "df = pd.read_csv ('latest.csv', low_memory=False)"
   ]
  },
  {
   "cell_type": "code",
   "execution_count": null,
   "id": "d7386ab9-36d9-49d8-81a1-f83f02c7cd69",
   "metadata": {
    "tags": []
   },
   "outputs": [],
   "source": [
    "# Only open to public locations\n",
    "df = df[df['Restricted Access'] == False]"
   ]
  },
  {
   "cell_type": "code",
   "execution_count": null,
   "id": "491b90b4-a059-4c18-92b4-1982e55341ab",
   "metadata": {
    "tags": []
   },
   "outputs": [],
   "source": [
    "# Order by State\n",
    "df = df.sort_values(by='Facility Type')"
   ]
  },
  {
   "cell_type": "code",
   "execution_count": null,
   "id": "9cc9e13e-08c3-490d-8182-60882e7f642a",
   "metadata": {
    "tags": []
   },
   "outputs": [],
   "source": [
    "fig = go.Figure(\n",
    "    data=[\n",
    "        go.Bar(\n",
    "            name=\"EV DC Fast Count\",\n",
    "            x=df[\"Facility Type\"],\n",
    "            y=df[\"EV DC Fast Count\"],\n",
    "            hovertext = df[\"Station Name\"] + \"<br>\" + df[\"Street Address\"] + \"<br>\" + df[\"City\"] + \"<br>\" + df[\"State\"],\n",
    "            offsetgroup=0,\n",
    "        ),\n",
    "        go.Bar(\n",
    "            name=\"EV Level1 EVSE Num\",\n",
    "            x=df[\"Facility Type\"],\n",
    "            y=df[\"EV Level1 EVSE Num\"],\n",
    "            hovertext = df[\"Station Name\"] + \"<br>\" + df[\"Street Address\"] + \"<br>\" + df[\"City\"] + \"<br>\" + df[\"State\"],\n",
    "            offsetgroup=1,\n",
    "        ),\n",
    "        go.Bar(\n",
    "            name=\"EV Level2 EVSE Num\",\n",
    "            x=df[\"Facility Type\"],\n",
    "            y=df[\"EV Level2 EVSE Num\"],\n",
    "            hovertext = df[\"Station Name\"] + \"<br>\" + df[\"Street Address\"] + \"<br>\" + df[\"City\"] + \"<br>\" + df[\"State\"],\n",
    "            offsetgroup=1,\n",
    "            base=df[\"EV Level1 EVSE Num\"],\n",
    "        )\n",
    "    ],\n",
    "    layout =go.Layout(\n",
    "        title = \"Property Types\",\n",
    "        yaxis_title = \"Number of Chargers\",\n",
    "        height = 800,\n",
    "        width = 2000\n",
    "    )\n",
    ")\n",
    "\n",
    "fig.show()"
   ]
  },
  {
   "cell_type": "code",
   "execution_count": null,
   "id": "a76dcbe3-ba55-44a8-a675-2e5b523dc6f3",
   "metadata": {},
   "outputs": [],
   "source": []
  }
 ],
 "metadata": {
  "kernelspec": {
   "display_name": "Python 3 (ipykernel)",
   "language": "python",
   "name": "python3"
  },
  "language_info": {
   "codemirror_mode": {
    "name": "ipython",
    "version": 3
   },
   "file_extension": ".py",
   "mimetype": "text/x-python",
   "name": "python",
   "nbconvert_exporter": "python",
   "pygments_lexer": "ipython3",
   "version": "3.11.9"
  }
 },
 "nbformat": 4,
 "nbformat_minor": 5
}
