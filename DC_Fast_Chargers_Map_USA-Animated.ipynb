{
 "cells": [
  {
   "cell_type": "markdown",
   "id": "42ec1ef4-283b-4cd3-8a74-7f1d2bad6175",
   "metadata": {},
   "source": [
    "# What is this?\n",
    "A simple animated visualization of DC Fast Chargers that have 4 or more dispensers. \n",
    "This runs very slow so that points get added to the map and don't just flash for each date.\n",
    "\n",
    "# How to use\n",
    "* Run the Download_Latest_Data notebook first.\n",
    "* Read the How to use in that notebook.\n",
    "* Profit!"
   ]
  },
  {
   "cell_type": "code",
   "execution_count": null,
   "id": "80f798b6-0fc4-4491-a9b6-0071264fe517",
   "metadata": {
    "tags": []
   },
   "outputs": [],
   "source": [
    "import pandas as pd\n",
    "import plotly.express as px\n",
    "import numpy as np\n",
    "import plotly.graph_objects as go  \n",
    "import geopandas as gpd"
   ]
  },
  {
   "cell_type": "code",
   "execution_count": null,
   "id": "56260e1f-6525-4d82-8391-911c5d7b7310",
   "metadata": {
    "scrolled": true,
    "tags": []
   },
   "outputs": [],
   "source": [
    "df = pd.read_csv ('latest.csv', low_memory=False)"
   ]
  },
  {
   "cell_type": "code",
   "execution_count": null,
   "id": "8a7b7c19-a946-4da1-9d6e-52799b9f5fac",
   "metadata": {
    "tags": []
   },
   "outputs": [],
   "source": [
    "df.dropna(subset=[\"Open Date\"], inplace=True)\n",
    "df = df[df['EV DC Fast Count'] > 3]"
   ]
  },
  {
   "cell_type": "code",
   "execution_count": null,
   "id": "162983d6-3fdd-4d17-8457-45fb997161dc",
   "metadata": {
    "tags": []
   },
   "outputs": [],
   "source": [
    "# This is REALLY slow\n",
    "df['dttime'] = pd.to_datetime(df['Open Date'], format='%Y-%m-%d')\n",
    "\n",
    "df = df.sort_values(by='dttime')\n",
    "\n",
    "# Add a column for animation frame\n",
    "df['Frame'] = df['dttime'].dt.strftime('%Y-%m')\n",
    "\n",
    "# Expand the dataframe to include all previous events up to each frame\n",
    "expanded_df = pd.DataFrame()\n",
    "\n",
    "for date in df['dttime'].unique():\n",
    "    temp_df = df[df['dttime'] <= date].copy()\n",
    "    temp_df['Frame'] = date.strftime('%Y-%m')\n",
    "    expanded_df = pd.concat([expanded_df, temp_df], ignore_index=True)"
   ]
  },
  {
   "cell_type": "code",
   "execution_count": null,
   "id": "1a451d33-c6ba-4c6a-9501-6acc8090973e",
   "metadata": {},
   "outputs": [],
   "source": [
    "fig = px.scatter_geo(expanded_df,\n",
    "                     height=1000,\n",
    "                     width=1800,\n",
    "                     lat=expanded_df.Latitude,\n",
    "                     lon=expanded_df.Longitude,\n",
    "                     animation_frame=expanded_df['Frame'],\n",
    "                     range_color=(0, 100),\n",
    "                     hover_name=expanded_df[\"Station Name\"],\n",
    "                     hover_data=[expanded_df['EV Network'], expanded_df.City, expanded_df.State],\n",
    "                     size=expanded_df['EV DC Fast Count'],\n",
    "                     color=expanded_df['EV DC Fast Count'],\n",
    "                     scope = \"usa\"\n",
    "                    )\n",
    "\n",
    "# Keep all markers visible for the entire animation\n",
    "fig.update_traces(marker=dict(size=len(expanded_df)))\n",
    "fig.update_geos(\n",
    "    landcolor=\"LightGreen\",\n",
    "    showocean=True,\n",
    "    oceancolor=\"LightBlue\",\n",
    "    projection_type=\"albers usa\"\n",
    ")\n",
    "\n",
    "fig.show()"
   ]
  },
  {
   "cell_type": "code",
   "execution_count": null,
   "id": "09c6ec5e-e7f4-4c2a-b3c0-52ca0469c0e2",
   "metadata": {},
   "outputs": [],
   "source": []
  }
 ],
 "metadata": {
  "kernelspec": {
   "display_name": "Python 3 (ipykernel)",
   "language": "python",
   "name": "python3"
  },
  "language_info": {
   "codemirror_mode": {
    "name": "ipython",
    "version": 3
   },
   "file_extension": ".py",
   "mimetype": "text/x-python",
   "name": "python",
   "nbconvert_exporter": "python",
   "pygments_lexer": "ipython3",
   "version": "3.11.9"
  }
 },
 "nbformat": 4,
 "nbformat_minor": 5
}
