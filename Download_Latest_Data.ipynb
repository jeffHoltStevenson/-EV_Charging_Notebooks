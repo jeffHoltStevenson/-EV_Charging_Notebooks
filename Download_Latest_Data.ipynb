{
 "cells": [
  {
   "cell_type": "markdown",
   "id": "cd39fac5-f90a-4d77-b26a-cc9b27e74ebf",
   "metadata": {},
   "source": [
    "# Download the latest data programatically\n",
    "\n",
    "# How to use\n",
    "* **This notebook needs to be run before any of the others.**\n",
    "* Know how to use any kind of Jupyter Notebook.\n",
    "* Source of the data you want can be manually downloaded from here: https://afdc.energy.gov/data_download\n",
    "* Install geopandas and plotly libraries.\n",
    "* Open the .ipynb file in your notebook.\n",
    "* Run notebooks.\n",
    "* Profit!"
   ]
  },
  {
   "cell_type": "code",
   "execution_count": 29,
   "id": "23895914-fea8-47a7-a488-4778fe612249",
   "metadata": {
    "tags": []
   },
   "outputs": [],
   "source": [
    "import pandas as pd\n",
    "import requests\n",
    "from io import StringIO"
   ]
  },
  {
   "cell_type": "code",
   "execution_count": 30,
   "id": "a8c6261b-f222-4e6c-bd81-e1a3abb09224",
   "metadata": {
    "tags": []
   },
   "outputs": [],
   "source": [
    "url = \"https://developer.nrel.gov/api/alt-fuel-stations/v1.csv?access=public&api_key=EVn6yP6Onfpy8OpXwh4Z0gdOxzbkIT2vidtedsjj&country=US&download=true&fuel_type=ELEC&state=all&status=E\""
   ]
  },
  {
   "cell_type": "code",
   "execution_count": 31,
   "id": "2ae6dfb2-c327-4f3b-9504-939cab17026d",
   "metadata": {
    "tags": []
   },
   "outputs": [],
   "source": [
    "response = requests.get(url)\n",
    "\n",
    "if response.status_code == 200:\n",
    "    data = pd.read_csv(StringIO(response.text), low_memory=False)\n",
    "else:\n",
    "    print(f\"Failed to download data. Status code: {response.status_code}\")"
   ]
  },
  {
   "cell_type": "code",
   "execution_count": 33,
   "id": "1a613c26-37b1-4a63-ad1b-957e7c7d4341",
   "metadata": {
    "tags": []
   },
   "outputs": [],
   "source": [
    "data.to_csv(\"latest.csv\")"
   ]
  },
  {
   "cell_type": "code",
   "execution_count": null,
   "id": "e402c067-cbe0-46be-b5a1-fa7f95c18260",
   "metadata": {},
   "outputs": [],
   "source": []
  }
 ],
 "metadata": {
  "kernelspec": {
   "display_name": "Python 3 (ipykernel)",
   "language": "python",
   "name": "python3"
  },
  "language_info": {
   "codemirror_mode": {
    "name": "ipython",
    "version": 3
   },
   "file_extension": ".py",
   "mimetype": "text/x-python",
   "name": "python",
   "nbconvert_exporter": "python",
   "pygments_lexer": "ipython3",
   "version": "3.11.9"
  }
 },
 "nbformat": 4,
 "nbformat_minor": 5
}
